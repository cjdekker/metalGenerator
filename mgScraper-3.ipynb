{
 "cells": [
  {
   "cell_type": "code",
   "execution_count": 15,
   "metadata": {},
   "outputs": [],
   "source": [
    "import re "
   ]
  },
  {
   "cell_type": "code",
   "execution_count": 16,
   "metadata": {},
   "outputs": [],
   "source": [
    "#black metal = subgenre 124, grindcore = subgenre 120\n",
    "html = requests.get('https://www.ultimate-guitar.com/explore?genres[]=8&page=2&subgenres[]=124&type[]=Tabs').text\n",
    "# A sample regular expression to find digits. \n",
    "regex = 'https://tabs.ultimate-guitar.com/tab/[^&]*'             \n",
    "    \n",
    "match = re.findall(regex, html) "
   ]
  },
  {
   "cell_type": "code",
   "execution_count": 24,
   "metadata": {},
   "outputs": [],
   "source": [
    "#html = requests.get('https://www.ultimate-guitar.com/explore?genres[]=8&page=2&subgenres[]=124&type[]=Tabs').text\n",
    "s0 = 'https://www.ultimate-guitar.com/explore?genres[]=8&page='\n",
    "s1 = '&subgenres[]=124&type[]=Tabs'\n",
    "hl = []\n",
    "for i in range(1, 42):\n",
    "    ns = s0 + str(i) + s1\n",
    "    hl.append(ns)\n",
    "#hl"
   ]
  },
  {
   "cell_type": "code",
   "execution_count": 25,
   "metadata": {},
   "outputs": [],
   "source": [
    "regex = 'https://tabs.ultimate-guitar.com/tab/[^&]*'             \n",
    "fl = [] \n",
    "for i in hl:\n",
    "    html = requests.get(i).text\n",
    "    match = re.findall(regex, html)\n",
    "    fl.extend(match)\n",
    "#len(fl)"
   ]
  },
  {
   "cell_type": "code",
   "execution_count": 26,
   "metadata": {},
   "outputs": [],
   "source": [
    "#set i to the number of songs you want\n",
    "nfl = []\n",
    "for i in range(0,20):\n",
    "    ht = requests.get(fl[i]).text\n",
    "    nfl.append(ht)\n",
    "#nfl"
   ]
  },
  {
   "cell_type": "code",
   "execution_count": 27,
   "metadata": {},
   "outputs": [],
   "source": [
    "regex0 = '---[^&]*'             \n",
    "lf = [] \n",
    "for i in nfl:\n",
    "    #html = requests.get(str(i)).text\n",
    "    match = re.findall(regex0, i)\n",
    "    lf.extend(match)\n",
    "#lf"
   ]
  },
  {
   "cell_type": "code",
   "execution_count": null,
   "metadata": {},
   "outputs": [],
   "source": []
  }
 ],
 "metadata": {
  "kernelspec": {
   "display_name": "Python 3",
   "language": "python",
   "name": "python3"
  },
  "language_info": {
   "codemirror_mode": {
    "name": "ipython",
    "version": 3
   },
   "file_extension": ".py",
   "mimetype": "text/x-python",
   "name": "python",
   "nbconvert_exporter": "python",
   "pygments_lexer": "ipython3",
   "version": "3.7.6"
  }
 },
 "nbformat": 4,
 "nbformat_minor": 4
}
